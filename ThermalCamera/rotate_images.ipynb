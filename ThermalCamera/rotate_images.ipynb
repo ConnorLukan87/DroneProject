{
 "cells": [
  {
   "cell_type": "code",
   "execution_count": 2,
   "id": "initial_id",
   "metadata": {
    "collapsed": true,
    "ExecuteTime": {
     "end_time": "2024-03-24T23:50:59.095275312Z",
     "start_time": "2024-03-24T23:50:58.969461578Z"
    }
   },
   "outputs": [],
   "source": [
    "import cv2 as cv\n",
    "import numpy as np"
   ]
  },
  {
   "cell_type": "code",
   "outputs": [],
   "source": [
    "path = \"/home/computer/CS/DroneProject/im2im_labeling/images/\""
   ],
   "metadata": {
    "collapsed": false,
    "ExecuteTime": {
     "end_time": "2024-03-24T23:50:59.202052849Z",
     "start_time": "2024-03-24T23:50:59.158177788Z"
    }
   },
   "id": "63914f9a7c2a204b",
   "execution_count": 3
  },
  {
   "cell_type": "code",
   "outputs": [],
   "source": [
    "def rotate_180(im):\n",
    "    return cv.rotate(im, cv.ROTATE_180)\n",
    "\n",
    "def reflect_y(im):\n",
    "    return im[::,::-1, ::]\n"
   ],
   "metadata": {
    "collapsed": false,
    "ExecuteTime": {
     "end_time": "2024-03-24T23:50:59.367488533Z",
     "start_time": "2024-03-24T23:50:59.364680119Z"
    }
   },
   "id": "5f394ef4877fb0dd",
   "execution_count": 4
  },
  {
   "cell_type": "code",
   "outputs": [],
   "source": [
    "for i in range(3993,30001):\n",
    "    noir = cv.imread(path + \"unfiltered_preprocessed/NoIR_\" + str(i) + \".jpg\")\n",
    "    optical = cv.imread(path + \"filtered_preprocessed/Optical_\" + str(i) + \".jpg\")\n",
    "    subtraction = cv.imread(path + \"subtractions_preprocessed/subtraction_\" + str(i) + \".jpg\")\n",
    "    thermal = cv.imread(path + \"thermal/thermal_\" + str(i) + \".jpg\")\n",
    "    \n",
    "    if thermal.shape[1] == 512 or noir.shape[1] == 512 or optical.shape[1] == 512 or subtraction.shape[1] == 512:\n",
    "        print(\"Something is wrong with the image shapes\")\n",
    "        break\n",
    "    \n",
    "    noir_180 = rotate_180(noir)\n",
    "    optical_180 = rotate_180(optical)\n",
    "    subtraction_180 = rotate_180(subtraction)\n",
    "    thermal_180 = rotate_180(thermal)\n",
    "    \n",
    "    cv.imwrite(path+\"unfiltered_preprocessed/NoIR_\" + str(30000 + 3*i) + \".jpg\", noir_180)\n",
    "    cv.imwrite(path+\"filtered_preprocessed/Optical_\" + str(30000 + 3*i) + \".jpg\", optical_180)\n",
    "    cv.imwrite(path+\"subtractions_preprocessed/subtraction_\" + str(30000 + 3*i) + \".jpg\", subtraction_180)\n",
    "    cv.imwrite(path+\"thermal/thermal_\" + str(30000 + 3*i) + \".jpg\", thermal_180)\n",
    "    \n",
    "    noir_180 = reflect_y(noir)\n",
    "    optical_180 = reflect_y(optical)\n",
    "    subtraction_180 = reflect_y(subtraction)\n",
    "    thermal_180 = reflect_y(thermal)\n",
    "    \n",
    "    cv.imwrite(path+\"unfiltered_preprocessed/NoIR_\" + str(30000 + 3*i + 1) + \".jpg\", noir_180)\n",
    "    cv.imwrite(path+\"filtered_preprocessed/Optical_\" + str(30000 + 3*i + 1) + \".jpg\", optical_180)\n",
    "    cv.imwrite(path+\"subtractions_preprocessed/subtraction_\" + str(30000 + 3*i + 1) + \".jpg\", subtraction_180)\n",
    "    cv.imwrite(path+\"thermal/thermal_\" + str(30000 + 3*i + 1) + \".jpg\", thermal_180)\n",
    "    \n",
    "    noir_diag = reflect_y(noir_180)\n",
    "    optical_diag = reflect_y(optical_180)\n",
    "    subtraction_diag = reflect_y(subtraction_180)\n",
    "    thermal_diag = reflect_y(thermal_180)\n",
    "    \n",
    "    cv.imwrite(path+\"unfiltered_preprocessed/NoIR_\" + str(30000 + 3*i + 2) + \".jpg\", noir_diag)\n",
    "    cv.imwrite(path+\"filtered_preprocessed/Optical_\" + str(30000 + 3*i + 2) + \".jpg\", optical_diag)\n",
    "    cv.imwrite(path+\"subtractions_preprocessed/subtraction_\" + str(30000 + 3*i + 2) + \".jpg\", subtraction_diag)\n",
    "    cv.imwrite(path+\"thermal/thermal_\" + str(30000 + 3*i + 2) + \".jpg\", thermal_diag)\n",
    "    \n",
    "    "
   ],
   "metadata": {
    "collapsed": false,
    "is_executing": true,
    "ExecuteTime": {
     "start_time": "2024-03-24T23:50:59.559131528Z"
    }
   },
   "id": "6c79447251c0d992",
   "execution_count": null
  },
  {
   "cell_type": "code",
   "outputs": [],
   "source": [],
   "metadata": {
    "collapsed": false,
    "ExecuteTime": {
     "start_time": "2024-03-22T16:28:47.364147892Z"
    }
   },
   "id": "b482ad9044a81f1e"
  },
  {
   "cell_type": "code",
   "outputs": [],
   "source": [],
   "metadata": {
    "collapsed": false
   },
   "id": "65d320e403f42633"
  }
 ],
 "metadata": {
  "kernelspec": {
   "display_name": "Python 3",
   "language": "python",
   "name": "python3"
  },
  "language_info": {
   "codemirror_mode": {
    "name": "ipython",
    "version": 2
   },
   "file_extension": ".py",
   "mimetype": "text/x-python",
   "name": "python",
   "nbconvert_exporter": "python",
   "pygments_lexer": "ipython2",
   "version": "2.7.6"
  }
 },
 "nbformat": 4,
 "nbformat_minor": 5
}
